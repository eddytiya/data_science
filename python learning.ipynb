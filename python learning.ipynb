{
 "cells": [
  {
   "cell_type": "markdown",
   "id": "a6949051",
   "metadata": {},
   "source": [
    "## python"
   ]
  },
  {
   "cell_type": "code",
   "execution_count": 1,
   "id": "5f8e9ccd",
   "metadata": {},
   "outputs": [
    {
     "name": "stdout",
     "output_type": "stream",
     "text": [
      "Aditya Santosh Saroj Pathak\n"
     ]
    }
   ],
   "source": [
    "print(\"Aditya Santosh Saroj Pathak\")"
   ]
  },
  {
   "cell_type": "code",
   "execution_count": 2,
   "id": "4362ba84",
   "metadata": {},
   "outputs": [
    {
     "name": "stdout",
     "output_type": "stream",
     "text": [
      "waht is your nameaditya\n"
     ]
    },
    {
     "data": {
      "text/plain": [
       "'aditya'"
      ]
     },
     "execution_count": 2,
     "metadata": {},
     "output_type": "execute_result"
    }
   ],
   "source": [
    "input(\"waht is your name\")"
   ]
  },
  {
   "cell_type": "code",
   "execution_count": 3,
   "id": "5c45f0f0",
   "metadata": {},
   "outputs": [
    {
     "name": "stdout",
     "output_type": "stream",
     "text": [
      "waht is your name:aditya\n",
      "hellllllllllooooooo aditya\n"
     ]
    }
   ],
   "source": [
    "name=input(\"waht is your name:\")\n",
    "\n",
    "print(\"hellllllllllooooooo \"+ name)"
   ]
  },
  {
   "cell_type": "markdown",
   "id": "4e0d18ea",
   "metadata": {},
   "source": [
    "https://docs.python.org/3/library/index.html\n",
    "###### document to study python"
   ]
  },
  {
   "cell_type": "markdown",
   "id": "5bf1d18d",
   "metadata": {},
   "source": [
    "### exercise1 : how does python works"
   ]
  },
  {
   "cell_type": "markdown",
   "id": "759c78b4",
   "metadata": {},
   "source": [
    "## data Types in python\n",
    "\n",
    "* int \n",
    "* float\n",
    "* bool\n",
    "* str\n",
    "* list\n",
    "* tuple\n",
    "* set\n",
    "* dict"
   ]
  },
  {
   "cell_type": "markdown",
   "id": "6c8286bf",
   "metadata": {},
   "source": [
    "### 1.int and 2.float\n",
    "\n"
   ]
  },
  {
   "cell_type": "code",
   "execution_count": 4,
   "id": "89c5f434",
   "metadata": {},
   "outputs": [
    {
     "name": "stdout",
     "output_type": "stream",
     "text": [
      "6\n",
      "-2\n",
      "8\n",
      "0.5\n"
     ]
    }
   ],
   "source": [
    "print(2+4)\n",
    "print(2-4)\n",
    "print(2*4)\n",
    "print(2/4)"
   ]
  },
  {
   "cell_type": "code",
   "execution_count": 5,
   "id": "2b4eb245",
   "metadata": {},
   "outputs": [
    {
     "name": "stdout",
     "output_type": "stream",
     "text": [
      "<class 'int'>\n",
      "<class 'int'>\n",
      "<class 'int'>\n",
      "<class 'float'>\n"
     ]
    }
   ],
   "source": [
    "print(type(2+4))\n",
    "print(type(2-4))\n",
    "print(type(2*4))\n",
    "print(type(2/4))"
   ]
  },
  {
   "cell_type": "code",
   "execution_count": 6,
   "id": "ffd8f8e5",
   "metadata": {},
   "outputs": [
    {
     "name": "stdout",
     "output_type": "stream",
     "text": [
      "16\n",
      "8\n"
     ]
    }
   ],
   "source": [
    "print(2**4)\n",
    "print(2**3)"
   ]
  },
  {
   "cell_type": "code",
   "execution_count": 7,
   "id": "b615f4b0",
   "metadata": {},
   "outputs": [
    {
     "name": "stdout",
     "output_type": "stream",
     "text": [
      "0\n",
      "1\n"
     ]
    }
   ],
   "source": [
    "print(2//4)\n",
    "print(5//4)\n"
   ]
  },
  {
   "cell_type": "code",
   "execution_count": 8,
   "id": "e74dd2b3",
   "metadata": {},
   "outputs": [
    {
     "name": "stdout",
     "output_type": "stream",
     "text": [
      "0\n"
     ]
    }
   ],
   "source": [
    "print(5%1)#prints the remainder(modulo)"
   ]
  },
  {
   "cell_type": "code",
   "execution_count": 9,
   "id": "92b8c1e1",
   "metadata": {},
   "outputs": [
    {
     "name": "stdout",
     "output_type": "stream",
     "text": [
      "3\n",
      "4\n"
     ]
    }
   ],
   "source": [
    "#math function\n",
    "print(round(3.1))\n",
    "print(round(3.6))"
   ]
  },
  {
   "cell_type": "code",
   "execution_count": 10,
   "id": "e8e0b875",
   "metadata": {},
   "outputs": [
    {
     "name": "stdout",
     "output_type": "stream",
     "text": [
      "3.1\n"
     ]
    }
   ],
   "source": [
    "print(abs(-3.1))"
   ]
  },
  {
   "cell_type": "code",
   "execution_count": 11,
   "id": "cad13965",
   "metadata": {},
   "outputs": [
    {
     "name": "stdout",
     "output_type": "stream",
     "text": [
      "21\n"
     ]
    }
   ],
   "source": [
    "print((20-3)+2**2)"
   ]
  },
  {
   "cell_type": "markdown",
   "id": "d9ef92b0",
   "metadata": {},
   "source": [
    "#operator precedence in math\n",
    "##### (),**,*/,+-"
   ]
  },
  {
   "cell_type": "markdown",
   "id": "36be0bbc",
   "metadata": {},
   "source": [
    "##### for all math function visit\n",
    "https://www.programiz.com/python-programming/modules/math#google_vignette\n"
   ]
  },
  {
   "cell_type": "markdown",
   "id": "89c4736e",
   "metadata": {},
   "source": [
    "### exercise2 : Guess the output of each answer before you click RUN\n"
   ]
  },
  {
   "cell_type": "code",
   "execution_count": 12,
   "id": "b0f81d78",
   "metadata": {},
   "outputs": [
    {
     "name": "stdout",
     "output_type": "stream",
     "text": [
      "45.0\n",
      "45.0\n",
      "45.0\n",
      "25.0\n",
      "25\n"
     ]
    }
   ],
   "source": [
    "print((5 + 4) * 10 / 2)\n",
    "\n",
    "print(((5 + 4) * 10) / 2)\n",
    "\n",
    "print((5 + 4) * (10 / 2))\n",
    "\n",
    "print(5 + (4 * 10) / 2)\n",
    "\n",
    "print(5 + 4 * 10 // 2)"
   ]
  },
  {
   "cell_type": "markdown",
   "id": "9d6d3e5d",
   "metadata": {},
   "source": [
    "### bin data type"
   ]
  },
  {
   "cell_type": "code",
   "execution_count": 13,
   "id": "2141bdee",
   "metadata": {},
   "outputs": [
    {
     "name": "stdout",
     "output_type": "stream",
     "text": [
      "0b101\n",
      "5\n"
     ]
    }
   ],
   "source": [
    "print(bin(5))\n",
    "print(int('0b101',2))"
   ]
  },
  {
   "cell_type": "markdown",
   "id": "2bd7eb38",
   "metadata": {},
   "source": [
    "# variables(imp1)"
   ]
  },
  {
   "cell_type": "markdown",
   "id": "b1199bde",
   "metadata": {},
   "source": [
    "variables are way for us to store information .we can access these info any time later in our program whenever we need\n",
    "###### rules defining a variable\n",
    "* snake_case(no whitespace allowed){user_iq}\n",
    "* start with lowercase or underscore{_user_iq}\n",
    "* letters,numbers,underscore{user_iq3}\n",
    "* case sensitive\n",
    "* dont overwrite/ repeat keywords\n",
    "###### more about keywords :https://www.w3schools.com/python/python_ref_keywords.asp\n"
   ]
  },
  {
   "cell_type": "code",
   "execution_count": 14,
   "id": "7305aa33",
   "metadata": {},
   "outputs": [],
   "source": [
    "iq=100\n",
    "#iq is a variable "
   ]
  },
  {
   "cell_type": "code",
   "execution_count": 15,
   "id": "06b4c0e9",
   "metadata": {},
   "outputs": [
    {
     "name": "stdout",
     "output_type": "stream",
     "text": [
      "100\n"
     ]
    }
   ],
   "source": [
    "print(iq)"
   ]
  },
  {
   "cell_type": "code",
   "execution_count": 16,
   "id": "6f1222ec",
   "metadata": {},
   "outputs": [
    {
     "name": "stdout",
     "output_type": "stream",
     "text": [
      "25.0\n"
     ]
    }
   ],
   "source": [
    "#reassigning variables\n",
    "user_age=iq/4\n",
    "a=user_age\n",
    "print(a)"
   ]
  },
  {
   "cell_type": "markdown",
   "id": "fb9739f3",
   "metadata": {},
   "source": [
    "#### expression VS statement"
   ]
  },
  {
   "cell_type": "code",
   "execution_count": 17,
   "id": "5ea7d3fb",
   "metadata": {},
   "outputs": [],
   "source": [
    "iq=100\n",
    "user_age=iq/5\n",
    "\n",
    "#so (iq/5) is the expression:expression is the piece of code that produces a value\n",
    "#statement on the other hand is the entire line of code:(user_age=iq/5)"
   ]
  },
  {
   "cell_type": "markdown",
   "id": "ecec4f52",
   "metadata": {},
   "source": [
    "##### augmented assignment operator"
   ]
  },
  {
   "cell_type": "code",
   "execution_count": 18,
   "id": "5bf4f4cf",
   "metadata": {},
   "outputs": [
    {
     "name": "stdout",
     "output_type": "stream",
     "text": [
      "7\n"
     ]
    }
   ],
   "source": [
    "somevalue=5\n",
    "somevalue=somevalue+2\n",
    "print(somevalue)"
   ]
  },
  {
   "cell_type": "code",
   "execution_count": 19,
   "id": "83807323",
   "metadata": {},
   "outputs": [
    {
     "name": "stdout",
     "output_type": "stream",
     "text": [
      "7\n"
     ]
    }
   ],
   "source": [
    "#instead of doing the above code we can do like this\n",
    "somevalue=5\n",
    "somevalue+=2\n",
    "print(somevalue)"
   ]
  },
  {
   "cell_type": "code",
   "execution_count": 20,
   "id": "28382766",
   "metadata": {},
   "outputs": [
    {
     "name": "stdout",
     "output_type": "stream",
     "text": [
      "10\n"
     ]
    }
   ],
   "source": [
    "somevalue=5\n",
    "somevalue*=2\n",
    "print(somevalue)"
   ]
  },
  {
   "cell_type": "code",
   "execution_count": 21,
   "id": "32e66c31",
   "metadata": {},
   "outputs": [
    {
     "name": "stdout",
     "output_type": "stream",
     "text": [
      "2.5\n"
     ]
    }
   ],
   "source": [
    "somevalue=5\n",
    "somevalue/=2\n",
    "print(somevalue)"
   ]
  },
  {
   "cell_type": "code",
   "execution_count": 22,
   "id": "b60e95b3",
   "metadata": {},
   "outputs": [
    {
     "name": "stdout",
     "output_type": "stream",
     "text": [
      "3\n"
     ]
    }
   ],
   "source": [
    "somevalue=5\n",
    "somevalue-=2\n",
    "print(somevalue)"
   ]
  },
  {
   "cell_type": "markdown",
   "id": "01e07559",
   "metadata": {},
   "source": [
    "## 3.strings(str)\n",
    "* strings are immutable\n",
    "* we cannot change them"
   ]
  },
  {
   "cell_type": "code",
   "execution_count": 23,
   "id": "284f0992",
   "metadata": {},
   "outputs": [
    {
     "data": {
      "text/plain": [
       "'hi hello there adityapathak123!'"
      ]
     },
     "execution_count": 23,
     "metadata": {},
     "output_type": "execute_result"
    }
   ],
   "source": [
    "'hi hello there'\n",
    "\"hi hello there adityapathak123!\""
   ]
  },
  {
   "cell_type": "code",
   "execution_count": 24,
   "id": "6a40111d",
   "metadata": {},
   "outputs": [
    {
     "name": "stdout",
     "output_type": "stream",
     "text": [
      "<class 'str'>\n"
     ]
    }
   ],
   "source": [
    "print(type(\"hi hello there adityapathak123!\"))"
   ]
  },
  {
   "cell_type": "code",
   "execution_count": 25,
   "id": "4afaa466",
   "metadata": {},
   "outputs": [
    {
     "name": "stdout",
     "output_type": "stream",
     "text": [
      "\n",
      "WOW\n",
      "0 0\n",
      "___\n",
      "\n"
     ]
    }
   ],
   "source": [
    "#for single line\n",
    "username='supercoder'\n",
    "passwd='supersecret'\n",
    "\n",
    "#for multiline \n",
    "long_string='''\n",
    "WOW\n",
    "0 0\n",
    "___\n",
    "'''\n",
    "\n",
    "print(long_string)"
   ]
  },
  {
   "cell_type": "code",
   "execution_count": 26,
   "id": "001043c5",
   "metadata": {},
   "outputs": [
    {
     "name": "stdout",
     "output_type": "stream",
     "text": [
      "adityapathak\n"
     ]
    }
   ],
   "source": [
    "firstname='aditya'\n",
    "lastnane='pathak'\n",
    "\n",
    "fullname=firstname+lastnane\n",
    "print(fullname)"
   ]
  },
  {
   "cell_type": "code",
   "execution_count": 27,
   "id": "d3009850",
   "metadata": {},
   "outputs": [
    {
     "name": "stdout",
     "output_type": "stream",
     "text": [
      "helloaditya\n"
     ]
    }
   ],
   "source": [
    "#string concatination\n",
    "print('hello' + 'aditya')"
   ]
  },
  {
   "cell_type": "markdown",
   "id": "facbf2a1",
   "metadata": {},
   "source": [
    "### type conversion"
   ]
  },
  {
   "cell_type": "code",
   "execution_count": 28,
   "id": "30456e28",
   "metadata": {},
   "outputs": [
    {
     "name": "stdout",
     "output_type": "stream",
     "text": [
      "<class 'int'>\n",
      "<class 'str'>\n"
     ]
    }
   ],
   "source": [
    "print(type(100))#100 is an int\n",
    "print(type(str(100)))# converting int into str"
   ]
  },
  {
   "cell_type": "code",
   "execution_count": 29,
   "id": "5255f332",
   "metadata": {},
   "outputs": [
    {
     "name": "stdout",
     "output_type": "stream",
     "text": [
      "<class 'int'>\n"
     ]
    }
   ],
   "source": [
    "a=str(100)\n",
    "b=int(a)\n",
    "c=type(b)\n",
    "print(c)\n",
    "#type_conversion"
   ]
  },
  {
   "cell_type": "markdown",
   "id": "3790c258",
   "metadata": {},
   "source": [
    "### escape sequence in pyphon\n",
    "\n",
    "used to write apistrophy in python(')"
   ]
  },
  {
   "cell_type": "code",
   "execution_count": 30,
   "id": "585beb6e",
   "metadata": {},
   "outputs": [
    {
     "name": "stdout",
     "output_type": "stream",
     "text": [
      "IT'S SUNNY\n"
     ]
    }
   ],
   "source": [
    "WEATHER =\"IT'S SUNNY\"\n",
    "print(WEATHER)"
   ]
  },
  {
   "cell_type": "code",
   "execution_count": 31,
   "id": "f7640234",
   "metadata": {},
   "outputs": [
    {
     "name": "stdout",
     "output_type": "stream",
     "text": [
      "IT\\S\"kind of\" SUNNY\n"
     ]
    }
   ],
   "source": [
    "# we can also write\n",
    "weather =\"IT\\S\\\"kind of\\\" SUNNY\"\n",
    "print(weather)\n"
   ]
  },
  {
   "cell_type": "code",
   "execution_count": 32,
   "id": "c792fbcc",
   "metadata": {},
   "outputs": [
    {
     "name": "stdout",
     "output_type": "stream",
     "text": [
      "IT\\S\"kind of\" SUNNY \n",
      " hope you have agood day \n",
      " sir maam\n"
     ]
    }
   ],
   "source": [
    "weather =\"IT\\S\\\"kind of\\\" SUNNY \\n hope you have agood day \\n sir maam\"\n",
    "print(weather)\n"
   ]
  },
  {
   "cell_type": "markdown",
   "id": "cee5dfe2",
   "metadata": {},
   "source": [
    "##### formatted strings\n",
    "\n"
   ]
  },
  {
   "cell_type": "code",
   "execution_count": 33,
   "id": "ea42c86c",
   "metadata": {},
   "outputs": [
    {
     "name": "stdout",
     "output_type": "stream",
     "text": [
      "hiaditya\n"
     ]
    }
   ],
   "source": [
    "name = 'aditya'\n",
    "print('hi'+name)"
   ]
  },
  {
   "cell_type": "code",
   "execution_count": 34,
   "id": "e240d837",
   "metadata": {},
   "outputs": [
    {
     "name": "stdout",
     "output_type": "stream",
     "text": [
      "hi aditya you are 20 years old\n"
     ]
    }
   ],
   "source": [
    "name = 'aditya'\n",
    "age=20\n",
    "print('hi '+name+\" you are \"+str(age)+\" years old\")"
   ]
  },
  {
   "cell_type": "code",
   "execution_count": 35,
   "id": "038a9c9b",
   "metadata": {},
   "outputs": [
    {
     "name": "stdout",
     "output_type": "stream",
     "text": [
      "hi aditya you are 20 years old\n"
     ]
    }
   ],
   "source": [
    "#we used the ancient way above using formated strings we ony need to type f\n",
    "name = 'aditya'\n",
    "age=20\n",
    "print(f\"hi {name} you are {age} years old\")\n",
    "\n",
    "#we do not need to convert int into str for printing in formatted string"
   ]
  },
  {
   "cell_type": "code",
   "execution_count": 36,
   "id": "8ba288fc",
   "metadata": {},
   "outputs": [
    {
     "name": "stdout",
     "output_type": "stream",
     "text": [
      "ABCD\n",
      "D\n",
      "ACEG\n",
      "BCDEFGH\n",
      "DEFGH\n",
      "ABC\n",
      "ABCDEF\n",
      "ABCDEFGH\n",
      "G\n",
      "ABCDEF\n",
      "GH\n"
     ]
    }
   ],
   "source": [
    "#string indexing(slicing)\n",
    "selfish = 'ABCDEFGH'\n",
    "          #01234567\n",
    "#[start:stop]\n",
    "print(selfish[0:4])\n",
    "print(selfish[3:4])\n",
    "#[START:STOP:STEP]\n",
    "print(selfish[0:7:2])\n",
    "\n",
    "print(selfish[1:])\n",
    "print(selfish[3:])\n",
    "print(selfish[:3])\n",
    "print(selfish[:6])\n",
    "\n",
    "print(selfish[::1])#{start:stop:step}\n",
    "\n",
    "#negative\n",
    "print(selfish[-2])\n",
    "print(selfish[:-2])\n",
    "print(selfish[-2:])"
   ]
  },
  {
   "cell_type": "markdown",
   "id": "e402be52",
   "metadata": {},
   "source": [
    "#### python string methods\n",
    "\n",
    "###### https://www.w3schools.com/python/python_ref_string.asp"
   ]
  },
  {
   "cell_type": "code",
   "execution_count": 37,
   "id": "280413fd",
   "metadata": {},
   "outputs": [
    {
     "name": "stdout",
     "output_type": "stream",
     "text": [
      "hellloooo\n",
      "TO BE AND NOT TO BE\n",
      "To be and not to be\n",
      "to be and not to be\n",
      "3\n",
      "to me and not to me\n",
      "to be and not to be\n"
     ]
    }
   ],
   "source": [
    "greet='hellloooo'\n",
    "quote='to be and not to be'\n",
    "print(greet[0:len(greet)])\n",
    "print(quote.upper())\n",
    "print(quote.capitalize())\n",
    "print(quote.lower())\n",
    "print(quote.find('be'))#returns the index number\n",
    "print(quote.replace('be','me'))\n",
    "print(quote)"
   ]
  },
  {
   "cell_type": "markdown",
   "id": "f400fc8e",
   "metadata": {},
   "source": [
    "### 4.boolean"
   ]
  },
  {
   "cell_type": "code",
   "execution_count": 38,
   "id": "2f957e7f",
   "metadata": {},
   "outputs": [],
   "source": [
    "name = 'aditya'\n",
    "is_cool = False\n",
    "\n",
    "is_cool=True"
   ]
  },
  {
   "cell_type": "code",
   "execution_count": 39,
   "id": "443ac5f5",
   "metadata": {},
   "outputs": [
    {
     "data": {
      "text/plain": [
       "True"
      ]
     },
     "execution_count": 39,
     "metadata": {},
     "output_type": "execute_result"
    }
   ],
   "source": [
    "bool(1)"
   ]
  },
  {
   "cell_type": "code",
   "execution_count": 40,
   "id": "931f6712",
   "metadata": {},
   "outputs": [
    {
     "data": {
      "text/plain": [
       "False"
      ]
     },
     "execution_count": 40,
     "metadata": {},
     "output_type": "execute_result"
    }
   ],
   "source": [
    "bool(0)"
   ]
  },
  {
   "cell_type": "markdown",
   "id": "7695a2ae",
   "metadata": {},
   "source": [
    "#### exercise3: type conversion"
   ]
  },
  {
   "cell_type": "code",
   "execution_count": 41,
   "id": "e5287636",
   "metadata": {},
   "outputs": [
    {
     "name": "stdout",
     "output_type": "stream",
     "text": [
      "its complicated\n"
     ]
    }
   ],
   "source": [
    "name =\"aditya pathak\"\n",
    "age=20\n",
    "relationship_status='single'\n",
    "\n",
    "relationship_status='its complicated'\n",
    "\n",
    "print(relationship_status)\n"
   ]
  },
  {
   "cell_type": "code",
   "execution_count": 42,
   "id": "c42d9c9e",
   "metadata": {},
   "outputs": [
    {
     "name": "stdout",
     "output_type": "stream",
     "text": [
      "what year were u born?2003\n",
      "<class 'int'>\n",
      "<class 'int'>\n",
      "your age is 20\n"
     ]
    }
   ],
   "source": [
    "# age calculator(way1)\n",
    "birth_year=int(input('what year were u born?'))\n",
    "print(type(birth_year))\n",
    "\n",
    "print(type(birth_year))\n",
    "age=2023-birth_year\n",
    "\n",
    "print(f\"your age is {age}\" )"
   ]
  },
  {
   "cell_type": "code",
   "execution_count": 43,
   "id": "85eb4f63",
   "metadata": {},
   "outputs": [
    {
     "name": "stdout",
     "output_type": "stream",
     "text": [
      "what year were u born?2003\n",
      "your age is 20\n"
     ]
    }
   ],
   "source": [
    "# age calculator(way2)\n",
    "birth_year=input('what year were u born?')\n",
    "\n",
    "\n",
    "\n",
    "age=2023-int(birth_year)\n",
    "\n",
    "print(f\"your age is {age}\" )"
   ]
  },
  {
   "cell_type": "markdown",
   "id": "4ee98b5c",
   "metadata": {},
   "source": [
    "#### exercise4:password checker"
   ]
  },
  {
   "cell_type": "code",
   "execution_count": 44,
   "id": "cadfc3b2",
   "metadata": {},
   "outputs": [
    {
     "name": "stdout",
     "output_type": "stream",
     "text": [
      "**********\n"
     ]
    }
   ],
   "source": [
    "print('*'*10)"
   ]
  },
  {
   "cell_type": "code",
   "execution_count": 45,
   "id": "12a2d9ce",
   "metadata": {},
   "outputs": [
    {
     "name": "stdout",
     "output_type": "stream",
     "text": [
      "what is your username123\n",
      "what is your password123456\n",
      "123,your password,****** is 6 letters long\n"
     ]
    }
   ],
   "source": [
    "username=input(\"what is your username\")\n",
    "password=input(\"what is your password\")\n",
    "\n",
    "password_length=len(password)\n",
    "hidden_password=\"*\" * password_length\n",
    "\n",
    "\n",
    "print(f\"{username},your password,{hidden_password} is {password_length} letters long\")\n"
   ]
  },
  {
   "cell_type": "markdown",
   "id": "231b883b",
   "metadata": {},
   "source": [
    "## 5.Lists\n",
    "* denoted bt [] square brackets"
   ]
  },
  {
   "cell_type": "code",
   "execution_count": 46,
   "id": "3f5ba9b7",
   "metadata": {},
   "outputs": [
    {
     "name": "stdout",
     "output_type": "stream",
     "text": [
      "[1, 2, 3, 4, 5]\n",
      "['a', 'b', 'c', 'd']\n",
      "[1, 2, 'a', True]\n"
     ]
    }
   ],
   "source": [
    "l1=[1,2,3,4,5]\n",
    "l2=['a','b','c','d']\n",
    "l3=[1,2,'a',True]\n",
    "print(l1)\n",
    "print(l2)\n",
    "print(l3)"
   ]
  },
  {
   "cell_type": "code",
   "execution_count": 47,
   "id": "1cf7f3aa",
   "metadata": {},
   "outputs": [
    {
     "name": "stdout",
     "output_type": "stream",
     "text": [
      "sunglasses\n",
      "notebooks\n"
     ]
    }
   ],
   "source": [
    "amazon_cart=['notebooks','sunglasses']\n",
    "print(amazon_cart[1])\n",
    "print(amazon_cart[0])\n",
    "#indexing starts frrom 0"
   ]
  },
  {
   "cell_type": "code",
   "execution_count": 48,
   "id": "c54e4ff8",
   "metadata": {},
   "outputs": [
    {
     "name": "stdout",
     "output_type": "stream",
     "text": [
      "['sunglasses', 'toys', 'grapes']\n",
      "['notebooks']\n",
      "['notebooks', 'toys']\n"
     ]
    }
   ],
   "source": [
    "#list slicing\n",
    "amazon_cart=[\n",
    "    'notebooks',#0\n",
    "    'sunglasses',#1\n",
    "    'toys',#2\n",
    "    'grapes'#3    \n",
    "]\n",
    "\n",
    "print(amazon_cart[1:100])\n",
    "print(amazon_cart[0:1:2])\n",
    "print(amazon_cart[0::2])"
   ]
  },
  {
   "cell_type": "code",
   "execution_count": 49,
   "id": "2dfe0cfa",
   "metadata": {},
   "outputs": [],
   "source": [
    "#we can manipulate lists they are mutable"
   ]
  },
  {
   "cell_type": "code",
   "execution_count": 50,
   "id": "dcdc03da",
   "metadata": {},
   "outputs": [
    {
     "name": "stdout",
     "output_type": "stream",
     "text": [
      "['laptop', 'sunglasses', 'toys', 'grapes']\n",
      "['gum', 'sunglasses', 'toys']\n"
     ]
    }
   ],
   "source": [
    "amazon_cart[0]='laptop'#replaced old item with new\n",
    "new_cart=amazon_cart[0:3]\n",
    "new_cart[0]='gum'\n",
    "print(amazon_cart)\n",
    "print(new_cart)"
   ]
  },
  {
   "cell_type": "markdown",
   "id": "ccb1ba5d",
   "metadata": {},
   "source": [
    "##### matrix\n",
    "array inside an array"
   ]
  },
  {
   "cell_type": "code",
   "execution_count": 51,
   "id": "cd2db76a",
   "metadata": {},
   "outputs": [
    {
     "name": "stdout",
     "output_type": "stream",
     "text": [
      "[[1, 2, 3], [4, 5, 6], [7, 8, 9]]\n",
      "[1, 2, 3]\n",
      "2\n",
      "9\n",
      "5\n"
     ]
    }
   ],
   "source": [
    "matrix=[\n",
    "    [1,2,3],\n",
    "    [4,5,6],\n",
    "    [7,8,9]\n",
    "]\n",
    "print(matrix)\n",
    "\n",
    "print(matrix[0])#accessing the block\n",
    "print(matrix[0][1])#accessing the particular element\n",
    "print(matrix[2][2])\n",
    "print(matrix[1][1])"
   ]
  },
  {
   "cell_type": "markdown",
   "id": "25ebbfb4",
   "metadata": {},
   "source": [
    "###### list methods\n",
    "* https://www.w3schools.com/python/python_ref_list.asp"
   ]
  },
  {
   "cell_type": "code",
   "execution_count": 52,
   "id": "24c98d6f",
   "metadata": {},
   "outputs": [
    {
     "name": "stdout",
     "output_type": "stream",
     "text": [
      "5\n",
      "[1, 2, 3, 4, 5, 100]\n",
      "None\n",
      "[1, 2, 3, 4, 5, 100, 100]\n",
      "[1, 2, 3, 4, 5, 100, 100, 'aloo']\n",
      "[1, 2, 3, 4, 5, 100, 100, 'aloo', 100, 101]\n",
      "[1, 2, 3, 4, 5, 100, 100, 'aloo', 100]\n",
      "[1, 3, 4, 5, 100, 100, 'aloo', 100]\n",
      "[1, 3, 4, 5, 100, 'aloo', 100]\n"
     ]
    }
   ],
   "source": [
    "basket=[1,2,3,4,5]\n",
    "\n",
    "print(len(basket))\n",
    "\n",
    "#adding\n",
    "new_list=basket.append(100)\n",
    "print(basket)#append changes the list in place \n",
    "print(new_list)\n",
    "\n",
    "#inserting\n",
    "basket.insert(5,100)\n",
    "print(basket)\n",
    "basket.insert(7,'aloo')\n",
    "print(basket)\n",
    "\n",
    "#extend\n",
    "basket.extend([100,101])#adds new element at the end of the list\n",
    "print(basket)\n",
    "\n",
    "#removing\n",
    "basket.pop()#removes the last element from the list\n",
    "print(basket)\n",
    "basket.pop(1)#removes the indexed element from the list\n",
    "print(basket)\n",
    "\n",
    "basket.remove(100)#remoes the specific element rom the lilst\n",
    "print(basket)"
   ]
  },
  {
   "cell_type": "code",
   "execution_count": 53,
   "id": "8f0946f7",
   "metadata": {},
   "outputs": [
    {
     "name": "stdout",
     "output_type": "stream",
     "text": [
      "3\n",
      "3\n",
      "True\n",
      "True\n",
      "1\n"
     ]
    }
   ],
   "source": [
    "#more methods2\n",
    "\n",
    "basket=[\"a\",'b','c','d','e']\n",
    "\n",
    "#index\n",
    "print(basket.index('d'))\n",
    "print(basket.index('d',0,4))\n",
    "\n",
    "print('d' in basket)#checking whetehr an element is in the list or not\n",
    "print('i' in 'hi my name is IAN')\n",
    "\n",
    "print(basket.count('d'))"
   ]
  },
  {
   "cell_type": "code",
   "execution_count": 54,
   "id": "755d134e",
   "metadata": {},
   "outputs": [
    {
     "name": "stdout",
     "output_type": "stream",
     "text": [
      "['a', 'b', 'c', 'd', 'e', 'p', 'r', 'x']\n",
      "['a', 'x', 'c', 'b', 'e', 'd', 'r', 'p']\n",
      "None\n",
      "['a', 'x', 'c', 'b', 'e', 'd', 'r', 'p']\n"
     ]
    }
   ],
   "source": [
    "#list method 3\n",
    "basket=['a','x','c','b','e','d','r','p']\n",
    "\n",
    "#sorting\n",
    "print(sorted(basket))\n",
    "print(basket)#the og basket is not sorted\n",
    "print(basket.reverse())\n",
    "print(basket[::-1])\n",
    "\n",
    "\n"
   ]
  },
  {
   "cell_type": "code",
   "execution_count": 55,
   "id": "12cb3417",
   "metadata": {},
   "outputs": [
    {
     "name": "stdout",
     "output_type": "stream",
     "text": [
      "range(1, 100)\n"
     ]
    }
   ],
   "source": [
    "print(range(1,100))"
   ]
  },
  {
   "cell_type": "code",
   "execution_count": 56,
   "id": "7777ef91",
   "metadata": {},
   "outputs": [
    {
     "name": "stdout",
     "output_type": "stream",
     "text": [
      "[1, 2, 3, 4, 5, 6, 7, 8, 9, 10, 11, 12, 13, 14, 15, 16, 17, 18, 19, 20, 21, 22, 23, 24, 25, 26, 27, 28, 29, 30, 31, 32, 33, 34, 35, 36, 37, 38, 39, 40, 41, 42, 43, 44, 45, 46, 47, 48, 49, 50, 51, 52, 53, 54, 55, 56, 57, 58, 59, 60, 61, 62, 63, 64, 65, 66, 67, 68, 69, 70, 71, 72, 73, 74, 75, 76, 77, 78, 79, 80, 81, 82, 83, 84, 85, 86, 87, 88, 89, 90, 91, 92, 93, 94, 95, 96, 97, 98, 99]\n"
     ]
    }
   ],
   "source": [
    "print(list(range(1,100)))"
   ]
  },
  {
   "cell_type": "code",
   "execution_count": 57,
   "id": "d8409d9e",
   "metadata": {},
   "outputs": [
    {
     "name": "stdout",
     "output_type": "stream",
     "text": [
      "[0, 1, 2, 3, 4, 5, 6, 7, 8, 9, 10, 11, 12, 13, 14, 15, 16, 17, 18, 19, 20, 21, 22, 23, 24, 25, 26, 27, 28, 29, 30, 31, 32, 33, 34, 35, 36, 37, 38, 39, 40, 41, 42, 43, 44, 45, 46, 47, 48, 49, 50, 51, 52, 53, 54, 55, 56, 57, 58, 59, 60, 61, 62, 63, 64, 65, 66, 67, 68, 69, 70, 71, 72, 73, 74, 75, 76, 77, 78, 79, 80, 81, 82, 83, 84, 85, 86, 87, 88, 89, 90, 91, 92, 93, 94, 95, 96, 97, 98, 99]\n"
     ]
    }
   ],
   "source": [
    "print(list(range(100)))"
   ]
  },
  {
   "cell_type": "code",
   "execution_count": 58,
   "id": "cafffb36",
   "metadata": {},
   "outputs": [
    {
     "name": "stdout",
     "output_type": "stream",
     "text": [
      "hi ! my ! name ! is ! aditya\n"
     ]
    }
   ],
   "source": [
    "#.join\n",
    "sentence=' ! '\n",
    "new_sentence=sentence.join(['hi','my','name','is','aditya'])\n",
    "\n",
    "print(new_sentence)"
   ]
  },
  {
   "cell_type": "code",
   "execution_count": 59,
   "id": "a797c965",
   "metadata": {},
   "outputs": [
    {
     "name": "stdout",
     "output_type": "stream",
     "text": [
      "1\n",
      "2\n",
      "3\n"
     ]
    }
   ],
   "source": [
    "#list unpacking\n",
    "a,b,c=[1,2,3]\n",
    "\n",
    "print(a)\n",
    "print(b)\n",
    "print(c)"
   ]
  },
  {
   "cell_type": "code",
   "execution_count": 60,
   "id": "e3d3ec04",
   "metadata": {},
   "outputs": [
    {
     "name": "stdout",
     "output_type": "stream",
     "text": [
      "1\n",
      "2\n",
      "3\n",
      "[4, 5, 6, 7, 8]\n",
      "9\n"
     ]
    }
   ],
   "source": [
    "#list unpacking\n",
    "a,b,c, *other, d=[1,2,3,4,5,6,7,8,9]\n",
    "\n",
    "print(a)\n",
    "print(b)\n",
    "print(c)\n",
    "\n",
    "print(other)\n",
    "\n",
    "print(d)"
   ]
  },
  {
   "cell_type": "markdown",
   "id": "970c0850",
   "metadata": {},
   "source": [
    "### 6.none"
   ]
  },
  {
   "cell_type": "code",
   "execution_count": 61,
   "id": "9927fc35",
   "metadata": {},
   "outputs": [
    {
     "name": "stdout",
     "output_type": "stream",
     "text": [
      "None\n"
     ]
    }
   ],
   "source": [
    "weapons=None\n",
    "print(weapons)"
   ]
  },
  {
   "cell_type": "markdown",
   "id": "842435e5",
   "metadata": {},
   "source": [
    "## 7.dictionaries\n",
    "\n",
    "* used{}curly brackets\n",
    "* unordered key value pair\n"
   ]
  },
  {
   "cell_type": "code",
   "execution_count": 62,
   "id": "36ee6c38",
   "metadata": {
    "scrolled": true
   },
   "outputs": [
    {
     "name": "stdout",
     "output_type": "stream",
     "text": [
      "{'a': 1, 'b': 2, 'x': 3}\n"
     ]
    }
   ],
   "source": [
    "dictionary={\n",
    "    'a':1,\n",
    "    'b':2,\n",
    "    'x':3\n",
    "}\n",
    "\n",
    "print(dictionary)"
   ]
  },
  {
   "cell_type": "code",
   "execution_count": 63,
   "id": "f7351a1c",
   "metadata": {},
   "outputs": [
    {
     "name": "stdout",
     "output_type": "stream",
     "text": [
      "{'a': [1, 2, 3], 'b': 'hello', 'x': True}\n",
      "[1, 2, 3]\n",
      "2\n"
     ]
    }
   ],
   "source": [
    "dictionary={\n",
    "    'a':[1,2,3],\n",
    "    'b':'hello',\n",
    "    'x':True\n",
    "}\n",
    "\n",
    "\n",
    "print(dictionary)\n",
    "print(dictionary['a'])\n",
    "print(dictionary['a'][1])"
   ]
  },
  {
   "cell_type": "code",
   "execution_count": 64,
   "id": "576be313",
   "metadata": {},
   "outputs": [
    {
     "name": "stdout",
     "output_type": "stream",
     "text": [
      "[{'a': [1, 2, 3], 'b': 'hello', 'x': True}, {'a': [4, 5, 6], 'b': 'tata', 'x': False}]\n",
      "{'a': [1, 2, 3], 'b': 'hello', 'x': True}\n",
      "{'a': [4, 5, 6], 'b': 'tata', 'x': False}\n",
      "3\n"
     ]
    }
   ],
   "source": [
    "my_list=[\n",
    "    {\n",
    "    'a':[1,2,3],\n",
    "    'b':'hello',\n",
    "    'x':True\n",
    "},\n",
    "    {\n",
    "    'a':[4,5,6],\n",
    "    'b':'tata',\n",
    "    'x':False\n",
    "}\n",
    "]\n",
    "\n",
    "print(my_list)\n",
    "print(my_list[0])\n",
    "print(my_list[1])\n",
    "\n",
    "print(my_list[0]['a'][2])"
   ]
  },
  {
   "cell_type": "markdown",
   "id": "1f97dabb",
   "metadata": {},
   "source": [
    "# list VS dictionary"
   ]
  },
  {
   "cell_type": "markdown",
   "id": "cc15516c",
   "metadata": {},
   "source": [
    "* a dictionary is not sorted while a list is sorted\n",
    "* a dictionary can contaion any sort ogf data type while a list is its own type\n"
   ]
  },
  {
   "cell_type": "code",
   "execution_count": 65,
   "id": "383e9d9a",
   "metadata": {},
   "outputs": [
    {
     "name": "stdout",
     "output_type": "stream",
     "text": [
      "20\n",
      "{'name': 'jonjon'}\n"
     ]
    }
   ],
   "source": [
    "user={\n",
    "    'basket':[1,2,3],\n",
    "    \"greet\":'hello',\n",
    "    'age':20\n",
    "}\n",
    "print(user.get('age',55))\n",
    "\n",
    "user2=dict(name='jonjon')\n",
    "print(user2)"
   ]
  },
  {
   "cell_type": "markdown",
   "id": "4c2071a9",
   "metadata": {},
   "source": [
    "### python dictionary methods\n",
    "https://www.w3schools.com/python/python_ref_dictionary.asp\n"
   ]
  },
  {
   "cell_type": "code",
   "execution_count": 66,
   "id": "a3d9d620",
   "metadata": {},
   "outputs": [
    {
     "name": "stdout",
     "output_type": "stream",
     "text": [
      "True\n",
      "False\n",
      "dict_items([('basket', [1, 2, 3]), ('greet', 'hello'), ('age', 20)])\n"
     ]
    }
   ],
   "source": [
    "user={\n",
    "    'basket':[1,2,3],\n",
    "    \"greet\":'hello',\n",
    "    'age':20\n",
    "}\n",
    "\n",
    "print('age' in user.keys())\n",
    "print('hello' in user.keys())\n",
    "\n",
    "print(user.items())"
   ]
  },
  {
   "cell_type": "code",
   "execution_count": 67,
   "id": "1623ff36",
   "metadata": {},
   "outputs": [
    {
     "name": "stdout",
     "output_type": "stream",
     "text": [
      "{'basket': [1, 2, 3], 'greet': 'hello', 'age': 20}\n",
      "20\n",
      "{'basket': [1, 2, 3], 'greet': 'hello'}\n",
      "None\n"
     ]
    }
   ],
   "source": [
    "user={\n",
    "    'basket':[1,2,3],\n",
    "    \"greet\":'hello',\n",
    "    'age':20\n",
    "}\n",
    "\n",
    "#copy\n",
    "user2=user.copy()\n",
    "print(user)\n",
    "\n",
    "#pop\n",
    "print(user.pop('age'))\n",
    "print(user)#age got removed\n",
    "\n",
    "#update\n",
    "print(user.update({'age':21}))"
   ]
  },
  {
   "cell_type": "code",
   "execution_count": 68,
   "id": "1baabf71",
   "metadata": {},
   "outputs": [
    {
     "name": "stdout",
     "output_type": "stream",
     "text": [
      "{'basket': [1, 2, 3], 'greet': 'hello', 'age': 20}\n",
      "None\n",
      "{'basket': [1, 2, 3], 'greet': 'hello', 'age': 21}\n"
     ]
    }
   ],
   "source": [
    "user={\n",
    "    'basket':[1,2,3],\n",
    "    \"greet\":'hello',\n",
    "    'age':20\n",
    "}\n",
    "print(user)\n",
    "#update\n",
    "print(user.update({'age':21}))\n",
    "print(user)"
   ]
  },
  {
   "cell_type": "markdown",
   "id": "3eb7dee5",
   "metadata": {},
   "source": [
    "# 8.tuple\n",
    "\n",
    "* they r like list but cannot be modified\n",
    "* used () brackets"
   ]
  },
  {
   "cell_type": "code",
   "execution_count": 69,
   "id": "e69b01d9",
   "metadata": {},
   "outputs": [
    {
     "name": "stdout",
     "output_type": "stream",
     "text": [
      "True\n"
     ]
    }
   ],
   "source": [
    "my_tuple=(1,2,3,4,5)\n",
    "print(5 in my_tuple)"
   ]
  },
  {
   "cell_type": "code",
   "execution_count": 70,
   "id": "6469aca5",
   "metadata": {},
   "outputs": [
    {
     "name": "stdout",
     "output_type": "stream",
     "text": [
      "(2, 3, 4)\n"
     ]
    }
   ],
   "source": [
    "new_tuple=my_tuple[1:4]\n",
    "print(new_tuple)"
   ]
  },
  {
   "cell_type": "code",
   "execution_count": 71,
   "id": "818abdb4",
   "metadata": {},
   "outputs": [
    {
     "name": "stdout",
     "output_type": "stream",
     "text": [
      "[4, 5]\n"
     ]
    }
   ],
   "source": [
    "x,y,z, *other=(1,2,3,4,5)\n",
    "print(other)"
   ]
  },
  {
   "cell_type": "code",
   "execution_count": 72,
   "id": "4abe0560",
   "metadata": {},
   "outputs": [
    {
     "name": "stdout",
     "output_type": "stream",
     "text": [
      "2\n",
      "4\n"
     ]
    }
   ],
   "source": [
    "# methods only 2\n",
    "my_tuple=(1,2,3,4,5,5)\n",
    "print(my_tuple.count(5))\n",
    "print(my_tuple.index(5))\n"
   ]
  },
  {
   "cell_type": "markdown",
   "id": "256809bc",
   "metadata": {},
   "source": [
    "## 8.set"
   ]
  },
  {
   "cell_type": "code",
   "execution_count": 73,
   "id": "90996bd0",
   "metadata": {},
   "outputs": [
    {
     "name": "stdout",
     "output_type": "stream",
     "text": [
      "{1, 2, 3, 4, 5}\n",
      "{1, 2, 3, 4, 5, 100, 99}\n"
     ]
    }
   ],
   "source": [
    "my_set={1,2,3,4,5,5}\n",
    "print(my_set)\n",
    "my_set.add(100)\n",
    "my_set.add(99)#\n",
    "my_set.add(2)#only unique values in sets\n",
    "\n",
    "print(my_set)"
   ]
  },
  {
   "cell_type": "code",
   "execution_count": 74,
   "id": "9ddca117",
   "metadata": {},
   "outputs": [
    {
     "name": "stdout",
     "output_type": "stream",
     "text": [
      "{1, 2, 3, 4, 5}\n"
     ]
    }
   ],
   "source": [
    "#for lists\n",
    "my_list=[1,2,3,4,5,5]\n",
    "\n",
    "print(set(my_list))"
   ]
  },
  {
   "cell_type": "code",
   "execution_count": 76,
   "id": "f906941a",
   "metadata": {},
   "outputs": [
    {
     "name": "stdout",
     "output_type": "stream",
     "text": [
      "6\n",
      "[1, 2, 3, 4, 5, 5]\n"
     ]
    }
   ],
   "source": [
    "#dor set\n",
    "my_set={1,2,3,4,5,5}\n",
    "\n",
    "print(len(my_list))\n",
    "print(list(my_list))# for having list as a copy"
   ]
  },
  {
   "cell_type": "markdown",
   "id": "6ce81c67",
   "metadata": {},
   "source": []
  },
  {
   "cell_type": "code",
   "execution_count": 80,
   "id": "e60338e2",
   "metadata": {},
   "outputs": [
    {
     "name": "stdout",
     "output_type": "stream",
     "text": [
      "{1, 2, 3, 4, 5}\n"
     ]
    }
   ],
   "source": [
    "new_set=my_set.copy()\n",
    "print(new_set)"
   ]
  },
  {
   "cell_type": "markdown",
   "id": "520df928",
   "metadata": {},
   "source": [
    "# methods of set\n",
    "* difference()\n",
    "* discard()\n",
    "* difference_update()\n",
    "* intersection()\n",
    "* isdisjoint()\n",
    "* issubset()\n",
    "* issuperset()\n",
    "* union()"
   ]
  },
  {
   "cell_type": "code",
   "execution_count": 94,
   "id": "f14fe347",
   "metadata": {},
   "outputs": [
    {
     "name": "stdout",
     "output_type": "stream",
     "text": [
      "{1, 2, 3}\n",
      "None\n",
      "{1, 2, 3, 4, 6}\n",
      "{1, 2, 3}\n",
      "set()\n",
      "True\n",
      "False\n",
      "False\n",
      "{1, 2, 3, 4, 5, 6, 7, 8, 9, 10}\n"
     ]
    }
   ],
   "source": [
    "my_set={1,2,3,4,5,6}\n",
    "your_set={4,5,6,7,8,9,10}\n",
    "\n",
    "#difference()\n",
    "print(my_set.difference(your_set))\n",
    "#discard()\n",
    "print(my_set.discard(5))\n",
    "print(my_set)\n",
    "#difference_update()\n",
    "my_set.difference_update(your_set)\n",
    "print(my_set)\n",
    "#intersection()\n",
    "print(my_set.intersection(your_set))\n",
    "#isdisjoint()\n",
    "print(my_set.isdisjoint(your_set))\n",
    "#issubset()\n",
    "print(my_set.issubset(your_set))\n",
    "#issuperset()\n",
    "print(my_set.issuperset(your_set))\n",
    "#union()\n",
    "print(my_set.union(your_set))"
   ]
  },
  {
   "cell_type": "code",
   "execution_count": null,
   "id": "50138386",
   "metadata": {},
   "outputs": [],
   "source": []
  }
 ],
 "metadata": {
  "kernelspec": {
   "display_name": "Python 3 (ipykernel)",
   "language": "python",
   "name": "python3"
  },
  "language_info": {
   "codemirror_mode": {
    "name": "ipython",
    "version": 3
   },
   "file_extension": ".py",
   "mimetype": "text/x-python",
   "name": "python",
   "nbconvert_exporter": "python",
   "pygments_lexer": "ipython3",
   "version": "3.11.5"
  }
 },
 "nbformat": 4,
 "nbformat_minor": 5
}
