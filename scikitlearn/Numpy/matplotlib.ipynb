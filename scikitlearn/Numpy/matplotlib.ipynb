{
 "cells": [
  {
   "cell_type": "code",
   "execution_count": null,
   "id": "35e80994",
   "metadata": {},
   "outputs": [],
   "source": [
    "##introduction to matplotlib\n",
    "import matplotlib.pyplot as plt\n",
    "import pandas as pd\n",
    "import numpy as np"
   ]
  },
  {
   "cell_type": "code",
   "execution_count": null,
   "id": "ff97f6cc",
   "metadata": {
    "scrolled": true
   },
   "outputs": [],
   "source": [
    "plt.plot()"
   ]
  },
  {
   "cell_type": "code",
   "execution_count": null,
   "id": "35d0a5d2",
   "metadata": {},
   "outputs": [],
   "source": [
    "plt.plot([1,2,3,4])"
   ]
  },
  {
   "cell_type": "code",
   "execution_count": null,
   "id": "7d75c525",
   "metadata": {},
   "outputs": [],
   "source": [
    "x=[1,2,3,4]\n",
    "y=[11,22,33,44]\n",
    "plt.plot(x,y)"
   ]
  },
  {
   "cell_type": "code",
   "execution_count": null,
   "id": "485eccc9",
   "metadata": {},
   "outputs": [],
   "source": [
    "#method 1\n",
    "fig=plt.figure()\n",
    "ax=fig.add_subplot()\n",
    "plt.show()"
   ]
  },
  {
   "cell_type": "code",
   "execution_count": null,
   "id": "84d34177",
   "metadata": {},
   "outputs": [],
   "source": [
    "#method2\n",
    "fig=plt.figure()\n",
    "ax=fig.add_axes([1,1,1,1])\n",
    "ax.plot(x,y)\n",
    "plt.show()"
   ]
  },
  {
   "cell_type": "code",
   "execution_count": null,
   "id": "79ec615f",
   "metadata": {},
   "outputs": [],
   "source": [
    "#method3 (what i use)\n",
    "fid,ax=plt.subplots()\n",
    "ax.plot(x,[50,100,150,200]);"
   ]
  },
  {
   "cell_type": "code",
   "execution_count": null,
   "id": "78d65845",
   "metadata": {},
   "outputs": [],
   "source": [
    "type(fig),type(ax)"
   ]
  },
  {
   "cell_type": "markdown",
   "id": "448e9cc0",
   "metadata": {},
   "source": [
    "##matplotlib example workfolw"
   ]
  },
  {
   "cell_type": "code",
   "execution_count": null,
   "id": "c5e8cde0",
   "metadata": {},
   "outputs": [],
   "source": [
    "import matplotlib.pyplot as plt\n",
    "\n",
    "#1.prepare data\n",
    "x = [1,2,3,4]\n",
    "y = [11,22,33,44]\n",
    "\n",
    "#2.setup\n",
    "fig, ax=plt.subplots(figsize=(10,10))\n",
    "\n",
    "#3plot data\n",
    "ax.plot(x,y)\n",
    "\n",
    "#4.customize plot\n",
    "ax.set(title=\"simple plot\",\n",
    "      xlabel=\"x-axis\",\n",
    "      ylabel=\"y-axis\")\n",
    "\n"
   ]
  },
  {
   "cell_type": "markdown",
   "id": "83b8cb64",
   "metadata": {},
   "source": [
    "# MAKING FIGURES WITH NUMPY ARRAYS\n",
    "##we want \n",
    "-line plot\n",
    "-bar plot \n",
    "-scatter plt\n",
    "-histogram\n",
    "-subplots"
   ]
  },
  {
   "cell_type": "code",
   "execution_count": null,
   "id": "b58181f3",
   "metadata": {},
   "outputs": [],
   "source": [
    "x=np.linspace(1,10,100)\n",
    "x[:10]"
   ]
  },
  {
   "cell_type": "code",
   "execution_count": null,
   "id": "9763558d",
   "metadata": {},
   "outputs": [],
   "source": [
    "#plotting the data\n",
    "fig,ax=plt.subplots()\n",
    "ax.plot(x,x**2)"
   ]
  },
  {
   "cell_type": "code",
   "execution_count": null,
   "id": "d40801ea",
   "metadata": {},
   "outputs": [],
   "source": [
    "#scatter plots\n",
    "fig,ax=plt.subplots()\n",
    "ax.scatter(x,np.exp(x))"
   ]
  },
  {
   "cell_type": "code",
   "execution_count": null,
   "id": "205a82a9",
   "metadata": {},
   "outputs": [],
   "source": [
    "fig,ax=plt.subplots()\n",
    "ax.scatter(x,np.sin(x))"
   ]
  },
  {
   "cell_type": "code",
   "execution_count": null,
   "id": "88c823f2",
   "metadata": {},
   "outputs": [],
   "source": [
    "#make a plot from dictionary\n",
    "nut_butter_prices={\"almond butter\":10,\n",
    "                  \"peanut butter\":8,\n",
    "                  \"cashew butter\":12}\n",
    "fig,ax=plt.subplots()\n",
    "ax.bar(nut_butter_prices.keys(),nut_butter_prices.values())\n",
    "ax.set(title=\"adis nut butter store\",\n",
    "      ylabel=\"price\")"
   ]
  },
  {
   "cell_type": "code",
   "execution_count": null,
   "id": "7e0d0a84",
   "metadata": {},
   "outputs": [],
   "source": [
    "fig,ax = plt.subplots()\n",
    "ax.barh(list(nut_butter_prices.keys()),(nut_butter_prices.values()))"
   ]
  },
  {
   "cell_type": "code",
   "execution_count": null,
   "id": "9b1dcab6",
   "metadata": {},
   "outputs": [],
   "source": [
    "#make some data for histogram\n",
    "x = np.random.randn(1000)\n",
    "fig,ax =plt.subplots()\n",
    "ax.hist(x)"
   ]
  },
  {
   "cell_type": "markdown",
   "id": "ae4a136e",
   "metadata": {},
   "source": [
    "## two options for subplots"
   ]
  },
  {
   "cell_type": "code",
   "execution_count": null,
   "id": "c769a19e",
   "metadata": {},
   "outputs": [],
   "source": [
    "#subplot option1\n",
    "fig,((ax1,ax2),(ax3,ax4))=plt.subplots(nrows=2,ncols=2,figsize=(10,5))\n",
    "\n",
    "#plot for each different axes\n",
    "ax1.plot(x,x/2)\n",
    "ax2.scatter(np.random.random(10),np.random.random(10))\n",
    "ax3.bar(nut_butter_prices.keys(),nut_butter_prices.values())\n",
    "ax4.hist(np.random.randn(1000))"
   ]
  },
  {
   "cell_type": "code",
   "execution_count": null,
   "id": "6f19db41",
   "metadata": {},
   "outputs": [],
   "source": [
    "#subplot option 2\n",
    "fig, ax = plt.subplots(nrows=2,\n",
    "                      ncols=2,\n",
    "                      figsize=(10,5))\n",
    "#plot to each different index\n",
    "ax[0,0].plot(x,x/2)\n",
    "ax[0,1].scatter(np.random.random(10),np.random.random(10))\n",
    "ax[1,0].bar(nut_butter_prices.keys(),nut_butter_prices.values())\n",
    "ax[1,1].hist(np.random.randn(100))"
   ]
  },
  {
   "cell_type": "markdown",
   "id": "f06121c0",
   "metadata": {},
   "source": [
    "## plotting from pandas dataframe"
   ]
  },
  {
   "cell_type": "code",
   "execution_count": null,
   "id": "47d5b5e1",
   "metadata": {},
   "outputs": [],
   "source": [
    "import pandas as pd\n"
   ]
  },
  {
   "cell_type": "code",
   "execution_count": null,
   "id": "3d372bc3",
   "metadata": {},
   "outputs": [],
   "source": [
    "#make a dataframe\n",
    "car_sales=pd.read_csv(\"car-sales (1).csv\")\n",
    "car_sales"
   ]
  },
  {
   "cell_type": "code",
   "execution_count": null,
   "id": "c7fc883f",
   "metadata": {},
   "outputs": [],
   "source": [
    "#from this website=\"https://pandas.pydata.org/docs/user_guide/visualization.html\"\n",
    "np.random.seed(123456)\n",
    "ts = pd.Series(np.random.randn(1000),\n",
    "               index=pd.date_range(\"1/1/2023\", periods=1000))\n",
    "ts=ts.cumsum()\n",
    "ts.plot()"
   ]
  },
  {
   "cell_type": "code",
   "execution_count": null,
   "id": "54b6e6dc",
   "metadata": {},
   "outputs": [],
   "source": [
    "car_sales[\"sale-date\"]=pd.date_range(\"1/1/2023\",periods=len(car_sales))\n",
    "car_sales\n"
   ]
  },
  {
   "cell_type": "code",
   "execution_count": null,
   "id": "e7a80de9",
   "metadata": {},
   "outputs": [],
   "source": [
    "car_sales[\"total sales\"] = car_sales[\"Price\"].cumsum()\n",
    "car_sales"
   ]
  },
  {
   "cell_type": "code",
   "execution_count": null,
   "id": "22053944",
   "metadata": {},
   "outputs": [],
   "source": [
    "car_sales.plot();"
   ]
  },
  {
   "cell_type": "code",
   "execution_count": null,
   "id": "f9a1bc9c",
   "metadata": {},
   "outputs": [],
   "source": [
    "#bar graph\n",
    "x=np.random.randn(10,4)\n",
    "x"
   ]
  },
  {
   "cell_type": "code",
   "execution_count": null,
   "id": "ac48972b",
   "metadata": {},
   "outputs": [],
   "source": [
    "#turn it into a dataframe\n",
    "df=pd.DataFrame(x,columns=['a','b','c','d'])\n",
    "df"
   ]
  },
  {
   "cell_type": "code",
   "execution_count": null,
   "id": "03fc3129",
   "metadata": {},
   "outputs": [],
   "source": [
    "df.plot.bar()"
   ]
  },
  {
   "cell_type": "code",
   "execution_count": null,
   "id": "bb247098",
   "metadata": {},
   "outputs": [],
   "source": [
    "df.plot(kind=\"bar\")"
   ]
  },
  {
   "cell_type": "code",
   "execution_count": null,
   "id": "60fd225a",
   "metadata": {},
   "outputs": [],
   "source": [
    "car_sales\n"
   ]
  },
  {
   "cell_type": "code",
   "execution_count": null,
   "id": "9fa4e4b5",
   "metadata": {},
   "outputs": [],
   "source": [
    "car_sales.plot(x=\"Make\",y=\"Odometer (KM)\", kind=\"bar\")"
   ]
  },
  {
   "cell_type": "code",
   "execution_count": null,
   "id": "f4dccfde",
   "metadata": {},
   "outputs": [],
   "source": [
    "#histogram\n",
    "car_sales[\"Odometer (KM)\"].plot.hist()"
   ]
  },
  {
   "cell_type": "code",
   "execution_count": null,
   "id": "529b298a",
   "metadata": {},
   "outputs": [],
   "source": [
    "car_sales[\"Odometer (KM)\"].plot(kind=\"hist\")"
   ]
  },
  {
   "cell_type": "code",
   "execution_count": null,
   "id": "9db8fc7d",
   "metadata": {},
   "outputs": [],
   "source": [
    "car_sales[\"Odometer (KM)\"].plot.hist(bins=40)"
   ]
  },
  {
   "cell_type": "code",
   "execution_count": null,
   "id": "ee9f4022",
   "metadata": {},
   "outputs": [],
   "source": [
    "#using another dataset\n",
    "heart_disease=pd.read_csv(\"heart-disease.csv\")\n",
    "heart_disease[:5]"
   ]
  },
  {
   "cell_type": "code",
   "execution_count": null,
   "id": "f9027882",
   "metadata": {},
   "outputs": [],
   "source": [
    "#histogram of age\n",
    "heart_disease[\"age\"].plot.hist(bins=20)"
   ]
  },
  {
   "cell_type": "code",
   "execution_count": null,
   "id": "4c5b9444",
   "metadata": {},
   "outputs": [],
   "source": [
    "heart_disease.plot.hist(figsize=(10,30),subplots=True)"
   ]
  },
  {
   "cell_type": "markdown",
   "id": "7576a81b",
   "metadata": {},
   "source": [
    "# which one should we use (pyplot VS matplotlib oo method)\n",
    "* when plotting something quixkly,use pyplot method\n",
    "* when plotting something more advanced, use the OO method"
   ]
  },
  {
   "cell_type": "code",
   "execution_count": null,
   "id": "912bc3fd",
   "metadata": {},
   "outputs": [],
   "source": [
    "heart_disease\n"
   ]
  },
  {
   "cell_type": "code",
   "execution_count": null,
   "id": "46901cd2",
   "metadata": {},
   "outputs": [],
   "source": [
    "over_50=heart_disease[heart_disease[\"age\"]>50]\n",
    "len(over_50)"
   ]
  },
  {
   "cell_type": "code",
   "execution_count": null,
   "id": "32b5d4b8",
   "metadata": {},
   "outputs": [],
   "source": [
    "over_50.head()"
   ]
  },
  {
   "cell_type": "code",
   "execution_count": null,
   "id": "79bbf049",
   "metadata": {},
   "outputs": [],
   "source": [
    "    #pyplot method\n",
    "    over_50.plot(kind=\"scatter\",\n",
    "                x='age',\n",
    "                 y='chol',\n",
    "                c=\"target\")"
   ]
  },
  {
   "cell_type": "code",
   "execution_count": null,
   "id": "fc6cfae6",
   "metadata": {},
   "outputs": [],
   "source": [
    "#OO method\n",
    "fix,ax = plt.subplots(figsize=(10,6))\n",
    "over_50.plot(kind=\"scatter\",\n",
    "                x='age',\n",
    "                 y='chol',\n",
    "                c=\"target\",\n",
    "            ax=ax)\n",
    "\n",
    "#ax.set_xlim([45,100])"
   ]
  },
  {
   "cell_type": "code",
   "execution_count": null,
   "id": "e1b06091",
   "metadata": {},
   "outputs": [],
   "source": [
    "fix,ax = plt.subplots(figsize=(10,6))\n",
    "over_50.plot(kind=\"scatter\",\n",
    "                x='age',\n",
    "                 y='chol',\n",
    "                c=\"target\",\n",
    "            ax=ax)\n",
    "\n",
    "ax.set_xlim([45,100])"
   ]
  },
  {
   "cell_type": "code",
   "execution_count": null,
   "id": "47fad6aa",
   "metadata": {},
   "outputs": [],
   "source": [
    "#OO method from scratch(object oriented)\n",
    "fig,ax = plt.subplots(figsize=(10,6))\n",
    "\n",
    "#plot the data\n",
    "scatter = ax.scatter(x=over_50[\"age\"],\n",
    "                    y=over_50[\"chol\"],\n",
    "                    c=over_50[\"target\"])\n",
    "\n",
    "#customizzing the plot\n",
    "ax.set(title=\"heart diesease and cholestrol level\",\n",
    "      xlabel=\"age\",\n",
    "      ylabel=\"cholestrol\")\n",
    "\n",
    "#add a legend\n",
    "ax.legend(*scatter.legend_elements(),title=\"Target\")\n",
    "\n",
    "#adding a horizoontal line\n",
    "ax.axhline(over_50[\"chol\"].mean(),\n",
    "                  linestyle='--')"
   ]
  },
  {
   "cell_type": "code",
   "execution_count": null,
   "id": "fede0282",
   "metadata": {},
   "outputs": [],
   "source": [
    "over_50.head()"
   ]
  },
  {
   "cell_type": "code",
   "execution_count": null,
   "id": "5e6d5a8b",
   "metadata": {},
   "outputs": [],
   "source": [
    "#subplot of col,age,thalach\n",
    "fig,(ax0,ax1)=plt.subplots(nrows=2,\n",
    "                          ncols=1,\n",
    "                          figsize=(10,10),sharex=True)\n",
    "\n",
    "#add data to ax0\n",
    "scatter =ax0.scatter(x=over_50[\"age\"],\n",
    "                    y=over_50[\"chol\"],\n",
    "                    c=over_50[\"target\"])\n",
    "\n",
    "#xustomize to ax0\n",
    "ax0.set(title=\"heart Disease and Cholestrol levels\",\n",
    "       \n",
    "       ylabel=\"cholestrol\")\n",
    "\n",
    "#add a legend to ax0\n",
    "ax0.legend(*scatter.legend_elements(),title=\"Target\")\n",
    "\n",
    "#adding a meanline\n",
    "ax0.axhline(y=over_50[\"chol\"].mean(),\n",
    "                  linestyle='--')\n",
    "\n",
    "\n",
    "\n",
    "#add data to ax1\n",
    "scatter =ax1.scatter(x=over_50[\"age\"],\n",
    "                    y=over_50[\"thalach\"],\n",
    "                    c=over_50[\"target\"])\n",
    "\n",
    "#xustomize to ax1\n",
    "ax1.set(title=\"heart Disease and Cholestrol levels\",\n",
    "       xlabel=\"age\",\n",
    "       ylabel=\"thalach(max heart rate)\")\n",
    "\n",
    "#add a legend to ax1\n",
    "ax1.legend(*scatter.legend_elements(),title=\"Target\")\n",
    "\n",
    "#adding a meanline\n",
    "ax1.axhline(y=over_50[\"thalach\"].mean(),\n",
    "                  linestyle='--')\n",
    "\n",
    "#add a title to the figure\n",
    "\n",
    "fig.suptitle(\"Heart Disease Analysis\", fontsize=16,fontweight=\"bold\")\n",
    "\n",
    "\n"
   ]
  },
  {
   "cell_type": "markdown",
   "id": "800f216e",
   "metadata": {},
   "source": [
    "## customizing Matplotlib plots and getting stylish\n"
   ]
  },
  {
   "cell_type": "code",
   "execution_count": null,
   "id": "343c4b19",
   "metadata": {},
   "outputs": [],
   "source": [
    "#see the different styles avaliable\n",
    "import matplotlib.pyplot as plt\n",
    "%matplotlib inline\n",
    "plt.style.available"
   ]
  },
  {
   "cell_type": "code",
   "execution_count": null,
   "id": "e1c5a4b7",
   "metadata": {},
   "outputs": [],
   "source": []
  },
  {
   "cell_type": "code",
   "execution_count": null,
   "id": "7ff4e6d1",
   "metadata": {},
   "outputs": [],
   "source": [
    "heart_disease[\"age\"].plot()"
   ]
  },
  {
   "cell_type": "code",
   "execution_count": null,
   "id": "139bce1f",
   "metadata": {},
   "outputs": [],
   "source": [
    "import seaborn as sns\n",
    "import matplotlib.pyplot as plt\n",
    "\n",
    "# Set seaborn style\n",
    "sns.set_style(\"darkgrid\")\n",
    "\n",
    "# Your plotting code here\n",
    "heart_disease[\"age\"].plot()\n",
    "\n",
    "# Show the plot\n",
    "plt.show()\n"
   ]
  },
  {
   "cell_type": "code",
   "execution_count": null,
   "id": "0dfa431c",
   "metadata": {},
   "outputs": [],
   "source": [
    "heart_disease.plot(x=\"age\",y=\"thalach\",kind='scatter')"
   ]
  },
  {
   "cell_type": "code",
   "execution_count": null,
   "id": "3b4654c6",
   "metadata": {},
   "outputs": [],
   "source": [
    "plt.style.use('ggplot')\n",
    "heart_disease[\"age\"].plot()"
   ]
  },
  {
   "cell_type": "code",
   "execution_count": null,
   "id": "17b38cbb",
   "metadata": {},
   "outputs": [],
   "source": [
    "#create some data\n",
    "x=np.random.randn(10,4)\n",
    "x"
   ]
  },
  {
   "cell_type": "code",
   "execution_count": null,
   "id": "ed202599",
   "metadata": {},
   "outputs": [],
   "source": [
    "df=pd.DataFrame(x,columns=['a','b','c','d'])\n",
    "df"
   ]
  },
  {
   "cell_type": "code",
   "execution_count": null,
   "id": "22503b00",
   "metadata": {},
   "outputs": [],
   "source": [
    "ax=df.plot(kind=\"bar\")\n",
    "type(ax)"
   ]
  },
  {
   "cell_type": "code",
   "execution_count": null,
   "id": "a7998ebc",
   "metadata": {},
   "outputs": [],
   "source": [
    "#customize our plot with set()method\n",
    "ax=df.plot(kind=\"bar\")\n",
    "#add some labels and a title\n",
    "ax.set(title=\"random no bar graph from dataframe\",\n",
    "      xlabel=\"row number\",\n",
    "      ylabel=\"random number\")\n",
    "#make the legend visible\n",
    "ax.legend().set_visible(True)"
   ]
  },
  {
   "cell_type": "code",
   "execution_count": null,
   "id": "39151a62",
   "metadata": {},
   "outputs": [],
   "source": []
  }
 ],
 "metadata": {
  "kernelspec": {
   "display_name": "Python 3 (ipykernel)",
   "language": "python",
   "name": "python3"
  },
  "language_info": {
   "codemirror_mode": {
    "name": "ipython",
    "version": 3
   },
   "file_extension": ".py",
   "mimetype": "text/x-python",
   "name": "python",
   "nbconvert_exporter": "python",
   "pygments_lexer": "ipython3",
   "version": "3.11.5"
  }
 },
 "nbformat": 4,
 "nbformat_minor": 5
}
